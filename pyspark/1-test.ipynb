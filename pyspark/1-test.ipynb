{
 "cells": [
  {
   "cell_type": "code",
   "execution_count": null,
   "id": "1dffd740",
   "metadata": {},
   "outputs": [],
   "source": [
    "import os\n",
    "import sys\n",
    "import datetime\n"
   ]
  },
  {
   "cell_type": "code",
   "execution_count": null,
   "id": "3edcf959",
   "metadata": {},
   "outputs": [],
   "source": [
    "datetimeFormat = \"%Y-%m-%dT%H:%M:%S\"\n",
    "timeBucketSeconds = 60*30 #60 seconds times how many number of minutes\n",
    "deResoluteFactor = 10"
   ]
  },
  {
   "cell_type": "code",
   "execution_count": null,
   "id": "d0781895",
   "metadata": {},
   "outputs": [],
   "source": [
    "sourceFile= \"../../ais/AIS_2022_08_15.csv\""
   ]
  },
  {
   "cell_type": "code",
   "execution_count": null,
   "id": "87e648a7",
   "metadata": {},
   "outputs": [],
   "source": [
    "def readinSourceFile(sf):\n",
    "    rv = {}\n",
    "    line=None\n",
    "    header=None\n",
    "    c=0\n",
    "    globalMinDT = None\n",
    "    globalMaxDT = None\n",
    "    with open(sf) as fIn:\n",
    "        line=fIn.readline()\n",
    "        while(line):\n",
    "            lineBits = line.strip().split(\",\")\n",
    "            lineBitsLen = len(lineBits)\n",
    "            if(lineBitsLen!=17):\n",
    "                print(lineBitsLen)\n",
    "            if(c==0):\n",
    "                header = lineBits\n",
    "            else:\n",
    "                mmsi = str(lineBits[0])\n",
    "                if not mmsi in rv:\n",
    "                    rv[mmsi] = []\n",
    "                item = {\n",
    "                    \"BaseDateTime\" : lineBits[1],\n",
    "                    \"LAT\" : float(lineBits[2]),\n",
    "                    \"LON\" : float(lineBits[3])\n",
    "#                    \"SOG\" : lineBits[4],\n",
    "#                    \"COG\" : lineBits[5],\n",
    "#                    \"Heading\" : lineBits[6],\n",
    "#                    \"VesselName\" : lineBits[7]\n",
    "                }\n",
    "                rv[mmsi].extend([item])\n",
    "                if(globalMinDT is None or lineBits[1]<globalMinDT):\n",
    "                    globalMinDT = lineBits[1]\n",
    "                if(globalMaxDT is None or lineBits[1]>globalMaxDT):\n",
    "                    globalMaxDT = lineBits[1]                    \n",
    "            c=c+1\n",
    "            line = fIn.readline()\n",
    "    return (header, rv, globalMinDT, globalMaxDT, c)"
   ]
  },
  {
   "cell_type": "code",
   "execution_count": null,
   "id": "a7a09bf4",
   "metadata": {},
   "outputs": [],
   "source": [
    "def filterAISData(aisData, minCount):\n",
    "    #remove vessels with less that minCount entries.  many vessels only have 1-2 reports\n",
    "    rv = {}\n",
    "    for mmsi in aisData:\n",
    "        mmsiItems = aisData[mmsi]\n",
    "        mmsiItems=sorted(mmsiItems, key=lambda k: k['BaseDateTime'])\n",
    "        items = []\n",
    "        ldt = None\n",
    "        for x in mmsiItems:\n",
    "            dt = x[\"BaseDateTime\"]\n",
    "            if(dt != ldt):\n",
    "                items.extend([x])\n",
    "                ldt = dt\n",
    "        if(len(items)>=minCount):\n",
    "            rv[mmsi] = items\n",
    "    return rv"
   ]
  },
  {
   "cell_type": "code",
   "execution_count": null,
   "id": "e2ae9b98",
   "metadata": {},
   "outputs": [],
   "source": [
    "#depreicated\n",
    "def findClosestNeighborsToDateTime(dtTarget, aisShipData):\n",
    "    itemNearMin=None\n",
    "    itemNearMax=None\n",
    "    itemNearMinDTO = None\n",
    "    itemNearMaxDTO = None\n",
    "    \n",
    "    for x in aisShipData:\n",
    "#        v = x[\"VesselName\"]\n",
    "        dt = x[\"BaseDateTime\"]\n",
    "        lat = x[\"LAT\"]\n",
    "        lon = x[\"LON\"]\n",
    "        dto = datetime.datetime.strptime(dt, datetimeFormat)\n",
    "        if(dto<=dtTarget) and (itemNearMin is None or dto>=itemNearMinDTO):\n",
    "            itemNearMin = x\n",
    "            itemNearMinDTO = dto\n",
    "        if(dto>=dtTarget) and (itemNearMax is None or dto<=itemNearMaxDTO):\n",
    "            itemNearMax = x\n",
    "            itemNearMaxDTO = dto\n",
    "    return (itemNearMin, itemNearMax)       "
   ]
  },
  {
   "cell_type": "code",
   "execution_count": null,
   "id": "f83f00e1",
   "metadata": {},
   "outputs": [],
   "source": [
    "def interpolatePointFromNeighbors(dtTarget, prevPoint, nextPoint):\n",
    "    dt_prev = prevPoint[\"BaseDateTime\"]\n",
    "    lat_prev = float(prevPoint[\"LAT\"])\n",
    "    lon_prev = float(prevPoint[\"LON\"])\n",
    "    dt_next = nextPoint[\"BaseDateTime\"]\n",
    "    lat_next = float(nextPoint[\"LAT\"])\n",
    "    lon_next = float(nextPoint[\"LON\"])\n",
    "    dto_prev = datetime.datetime.strptime(dt_prev, datetimeFormat)\n",
    "    dto_next = datetime.datetime.strptime(dt_next, datetimeFormat)\n",
    "    \n",
    "    if(dt_prev==dt_next):\n",
    "        return (lat_prev, lon_prev)\n",
    "    \n",
    "    r = (dtTarget - dto_prev) / (dto_next - dto_prev)\n",
    "    \n",
    "    tlat = ((lat_next-lat_prev) * r) + lat_prev\n",
    "    tlong = ((lon_next-lon_prev) * r) + lon_prev\n",
    "    return (tlat, tlong)\n",
    "    "
   ]
  },
  {
   "cell_type": "code",
   "execution_count": null,
   "id": "ee1af83b",
   "metadata": {},
   "outputs": [],
   "source": [
    "def deResoluteFloat(f, p):\n",
    "    x = float(int(f * p)/p)\n",
    "    return x"
   ]
  },
  {
   "cell_type": "code",
   "execution_count": null,
   "id": "8c93f874",
   "metadata": {},
   "outputs": [],
   "source": [
    "(header, aisData, globalMinDT, globalMaxDT, totalLines) = readinSourceFile(sourceFile)"
   ]
  },
  {
   "cell_type": "code",
   "execution_count": null,
   "id": "ddb2660e",
   "metadata": {},
   "outputs": [],
   "source": [
    "aisDataFiltered = filterAISData(aisData, 3)"
   ]
  },
  {
   "cell_type": "code",
   "execution_count": null,
   "id": "3e8319a6",
   "metadata": {},
   "outputs": [],
   "source": [
    "aisData = None"
   ]
  },
  {
   "cell_type": "code",
   "execution_count": null,
   "id": "3d081db4",
   "metadata": {},
   "outputs": [],
   "source": [
    "minDTO = datetime.datetime.strptime(globalMinDT, datetimeFormat)\n",
    "maxDTO = datetime.datetime.strptime(globalMaxDT, datetimeFormat)"
   ]
  },
  {
   "cell_type": "code",
   "execution_count": null,
   "id": "f2ba4ddc",
   "metadata": {},
   "outputs": [],
   "source": [
    "def createPaths(aisShipData, globalMinDT, globalMaxDT):\n",
    "    pathpoints = {}\n",
    "    \n",
    "    minDT = datetime.datetime.strptime(aisShipData[0][\"BaseDateTime\"], datetimeFormat)\n",
    "    maxDT = datetime.datetime.strptime(aisShipData[-1][\"BaseDateTime\"], datetimeFormat)\n",
    "    dtX = globalMinDT\n",
    "    while dtX<=maxDT:\n",
    "        pathPoint={\"dt\": dtX, \"lat\": None, \"lon\": None}\n",
    "        pathpoints[dtX] = pathPoint\n",
    "        dtX = dtX + datetime.timedelta(0, timeBucketSeconds)\n",
    "  \n",
    "    aisShipDataLen=len(aisShipData)\n",
    "\n",
    "    dtX = minDT\n",
    "    idxS = 1 #not the first\n",
    "    \n",
    "    while dtX<=maxDT:\n",
    "        currentShipItem = aisShipData[idxS]\n",
    "        currentShipItemDT = datetime.datetime.strptime(currentShipItem[\"BaseDateTime\"], datetimeFormat)\n",
    "        while(idxS<aisShipDataLen) and (currentShipItemDT<dtX):\n",
    "            idxS = idxS + 1\n",
    "            currentShipItem = aisShipData[idxS]\n",
    "            currentShipItemDT = datetime.datetime.strptime(currentShipItem[\"BaseDateTime\"], datetimeFormat)\n",
    "        lastShipItem = aisShipData[idxS-1]\n",
    "        lastShipItemDT = datetime.datetime.strptime(lastShipItem[\"BaseDateTime\"], datetimeFormat)\n",
    "        if(lastShipItemDT<=dtX) and (currentShipItemDT>=dtX):\n",
    "            #print(\"found\", lastShipItemDT, dtX, currentShipItemDT )\n",
    "            (interp_point_lat, interp_point_long) = interpolatePointFromNeighbors(dtX, lastShipItem, currentShipItem)\n",
    "            deres_lat = deResoluteFloat(interp_point_lat, deResoluteFactor)\n",
    "            deres_lon = deResoluteFloat(interp_point_long, deResoluteFactor)\n",
    "            pathPoint={\"dt\": dtX, \"lat\": deres_lat, \"lon\": deres_lon}\n",
    "            pathpoints[dtX] = pathPoint\n",
    "        dtX = dtX + datetime.timedelta(0 ,timeBucketSeconds)\n",
    "    \n",
    "    return pathpoints"
   ]
  },
  {
   "cell_type": "code",
   "execution_count": null,
   "id": "da938c45",
   "metadata": {},
   "outputs": [],
   "source": [
    "c=0\n",
    "aisPaths = {}\n",
    "\n",
    "for mmsi in aisDataFiltered:\n",
    "    mmsiData = aisDataFiltered[mmsi]\n",
    "    paths=createPaths(mmsiData, minDTO, maxDTO)\n",
    "    aisPaths[mmsi] = paths\n",
    "    if (c % 1000 ==0):\n",
    "        print(c)\n",
    "    c=c+1\n"
   ]
  },
  {
   "cell_type": "code",
   "execution_count": null,
   "id": "5ef9fb97",
   "metadata": {},
   "outputs": [],
   "source": [
    "def wrapDistances(d1, d2):\n",
    "    \"\"\"Modify pair of lat or lon coords to correctly calc shortest distance btw them.\"\"\"\n",
    "    if d1 < -90 and d2 > 90:\n",
    "        d2 = d2 - 360\n",
    "    elif d2 < -90 and d1 > 90:\n",
    "        d1 = d1 - 360\n",
    "    return (d1, d2)"
   ]
  },
  {
   "cell_type": "code",
   "execution_count": null,
   "id": "dcc2bfad",
   "metadata": {},
   "outputs": [],
   "source": [
    "def computeDistanceKM(lat1, lon1, lat2, lon2):\n",
    "    \"\"\"Computes haversine distance in km from latlon1 to latlon2.\"\"\"\n",
    "    R = 6371\n",
    "    sin, cos, radians = math.sin, math.cos, math.radians\n",
    "    (lat1, lat2) = wrapDistances(lat1, lat2)\n",
    "    (lon1, lon2) = wrapDistances(lon1, lon2)\n",
    "    dlat = radians(lat2 - lat1)\n",
    "    dlon = radians(lon2 - lon1)\n",
    "    a = sin(dlat / 2) ** 2 + cos(radians(lat1)) * cos(radians(lat2)) * sin(dlon / 2) ** 2\n",
    "    c = 2 * math.atan2(math.sqrt(a), math.sqrt(1 - a))\n",
    "    return R * c"
   ]
  },
  {
   "cell_type": "code",
   "execution_count": null,
   "id": "dda27264",
   "metadata": {},
   "outputs": [],
   "source": [
    "def comparePaths(pathA, pathB):\n",
    "    similarities = 0\n",
    "    for dtA in pathA:\n",
    "        ppA = pathA[dtA]\n",
    "        latA = ppA[\"lat\"]\n",
    "        lonA = ppA[\"lon\"]\n",
    "        if(latA is not None):\n",
    "            if(dtA in pathB):\n",
    "                ppB = pathB[dtA]\n",
    "                latB = ppB[\"lat\"]\n",
    "                lonB = ppB[\"lon\"]\n",
    "                if(latB is not None):\n",
    "                    if((latA==latB) and (lonA==lonB)):\n",
    "                        similarities=similarities+1\n",
    "    return similarities\n",
    "                   "
   ]
  },
  {
   "cell_type": "code",
   "execution_count": null,
   "id": "af2f8326",
   "metadata": {},
   "outputs": [],
   "source": [
    "def showSimilarPaths(pathA, pathB):\n",
    "    for dtA in pathA:\n",
    "        if(dtA in pathB):\n",
    "            if(pathA[dtA][\"lat\"] is not None and pathB[dtA][\"lat\"] is not None):\n",
    "                print(dtA.isoformat(), \"(\", pathA[dtA][\"lat\"], pathA[dtA][\"lon\"], \"), (\", pathB[dtA][\"lat\"], pathB[dtA][\"lon\"], \")\")\n",
    "        "
   ]
  },
  {
   "cell_type": "code",
   "execution_count": null,
   "id": "56bccd40",
   "metadata": {},
   "outputs": [],
   "source": [
    "for mmsi in aisPaths:\n",
    "    pathA = aisPaths[mmsi]\n",
    "    for mmsiB in aisPaths:\n",
    "        if(mmsi!=mmsiB):\n",
    "            pathB = aisPaths[mmsiB]\n",
    "            sims = comparePaths(pathA, pathB)\n",
    "            if(sims>10):\n",
    "                print(mmsi, mmsiB, sims)\n",
    "                showSimilarPaths(pathA, pathB)\n"
   ]
  },
  {
   "cell_type": "code",
   "execution_count": null,
   "id": "f94cb00b",
   "metadata": {},
   "outputs": [],
   "source": []
  },
  {
   "cell_type": "code",
   "execution_count": null,
   "id": "f7965187",
   "metadata": {},
   "outputs": [],
   "source": []
  },
  {
   "cell_type": "code",
   "execution_count": null,
   "id": "a4c012f3",
   "metadata": {},
   "outputs": [],
   "source": []
  }
 ],
 "metadata": {
  "kernelspec": {
   "display_name": "Python 3 (ipykernel)",
   "language": "python",
   "name": "python3"
  },
  "language_info": {
   "codemirror_mode": {
    "name": "ipython",
    "version": 3
   },
   "file_extension": ".py",
   "mimetype": "text/x-python",
   "name": "python",
   "nbconvert_exporter": "python",
   "pygments_lexer": "ipython3",
   "version": "3.11.0"
  }
 },
 "nbformat": 4,
 "nbformat_minor": 5
}
